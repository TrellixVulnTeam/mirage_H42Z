{
 "cells": [
  {
   "cell_type": "markdown",
   "metadata": {},
   "source": [
    "## Frequency of Bucket Spills (Fig-7)"
   ]
  },
  {
   "cell_type": "code",
   "execution_count": 25,
   "metadata": {},
   "outputs": [
    {
     "name": "stdout",
     "output_type": "stream",
     "text": [
      "\n"
     ]
    },
    {
     "data": {
      "image/png": "[encoded data removed]",
      "text/plain": [
       "<Figure size 396x180 with 1 Axes>"
      ]
     },
     "metadata": {},
     "output_type": "display_data"
    }
   ],
   "source": [
    "import matplotlib.pyplot as plt\n",
    "import numpy as np\n",
    "import pandas as pd\n",
    "import seaborn as sns; sns.set()\n",
    "#sns.set_style(\"whitegrid\")\n",
    "\n",
    "from matplotlib.ticker import PercentFormatter\n",
    "import matplotlib\n",
    "matplotlib.ticker._mathdefault = lambda x: '\\\\mathdefault{%s}'%x\n",
    "\n",
    "\n",
    "#Set Font Size\n",
    "plt.rc('font', family='serif')\n",
    "plt.rc('font', size='12')\n",
    "\n",
    "df = pd.read_csv(\"base/Base8.Spills.stat\", delimiter='\\s+')\n",
    "\n",
    "# Add Trials/Spill for Extra-Ways=0\n",
    "id=len(df)+1\n",
    "df.at[id, 'ExtraWaysPerSkew'] = 0\n",
    "df.at[id, 'Trials/Spill'] = 1\n",
    "#print (df)\n",
    "\n",
    "fig = plt.figure(figsize=(5.5,2.5))\n",
    "plt.bar(df['ExtraWaysPerSkew']+8, df['Trials/Spill'], align='center', width = 0.5, color='blue')\n",
    "\n",
    "\n",
    "ax = plt.gca()\n",
    "\n",
    "#xticks\n",
    "print()\n",
    "plt.xticks(df['ExtraWaysPerSkew']+8)\n",
    "ax.set_xlim(7.5,14.75)\n",
    "\n",
    "#axes labels\n",
    "plt.xlabel('Bucket Capacity',weight = 'bold')\n",
    "plt.ylabel('Balls Per Spill',weight = 'bold')\n",
    "\n",
    "#Set Y format & limts\n",
    "ax.set_yscale('log')\n",
    "ax.set_ylim(0.2,3*10**10)\n",
    "\n",
    "#grid\n",
    "ax.axis('on')\n",
    "#ax.xaxis.grid()\n",
    "\n",
    "#Text\n",
    "ax.text(13.5, 10**2, 'no spills observed\\n', style='italic',\n",
    "        bbox={ 'facecolor': 'white','pad': 3}, family='serif',size='9.7',\n",
    "        ha='center', va='center')\n",
    "\n",
    "fig.savefig(\"Fig7.pdf\",bbox_inches='tight')"
   ]
  },
  {
   "cell_type": "code",
   "execution_count": null,
   "metadata": {},
   "outputs": [],
   "source": []
  }
 ],
 "metadata": {
  "kernelspec": {
   "display_name": "Python 3",
   "language": "python",
   "name": "python3"
  },
  "language_info": {
   "codemirror_mode": {
    "name": "ipython",
    "version": 3
   },
   "file_extension": ".py",
   "mimetype": "text/x-python",
   "name": "python",
   "nbconvert_exporter": "python",
   "pygments_lexer": "ipython3",
   "version": "3.8.5"
  }
 },
 "nbformat": 4,
 "nbformat_minor": 4
}
